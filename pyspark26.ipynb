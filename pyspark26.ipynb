{
  "nbformat": 4,
  "nbformat_minor": 0,
  "metadata": {
    "colab": {
      "provenance": [],
      "authorship_tag": "ABX9TyPn+ZtG4rtxaOh0DpFkASle",
      "include_colab_link": true
    },
    "kernelspec": {
      "name": "python3",
      "display_name": "Python 3"
    },
    "language_info": {
      "name": "python"
    }
  },
  "cells": [
    {
      "cell_type": "markdown",
      "metadata": {
        "id": "view-in-github",
        "colab_type": "text"
      },
      "source": [
        "<a href=\"https://colab.research.google.com/github/sumaaithal/PySpark_30Days_Challenge/blob/main/pyspark26.ipynb\" target=\"_parent\"><img src=\"https://colab.research.google.com/assets/colab-badge.svg\" alt=\"Open In Colab\"/></a>"
      ]
    },
    {
      "cell_type": "code",
      "execution_count": null,
      "metadata": {
        "colab": {
          "base_uri": "https://localhost:8080/"
        },
        "id": "3iIVDvwbuNgX",
        "outputId": "8175bcf9-3b28-4391-8b42-d3407f0f53aa"
      },
      "outputs": [
        {
          "output_type": "stream",
          "name": "stdout",
          "text": [
            "Get:1 https://cloud.r-project.org/bin/linux/ubuntu jammy-cran40/ InRelease [3,626 B]\n",
            "Get:2 https://developer.download.nvidia.com/compute/cuda/repos/ubuntu2204/x86_64  InRelease [1,581 B]\n",
            "Hit:3 http://archive.ubuntu.com/ubuntu jammy InRelease\n",
            "Get:4 http://archive.ubuntu.com/ubuntu jammy-updates InRelease [119 kB]\n",
            "Get:5 http://security.ubuntu.com/ubuntu jammy-security InRelease [110 kB]\n",
            "Hit:6 http://archive.ubuntu.com/ubuntu jammy-backports InRelease\n",
            "Hit:7 https://ppa.launchpadcontent.net/c2d4u.team/c2d4u4.0+/ubuntu jammy InRelease\n",
            "Get:8 https://developer.download.nvidia.com/compute/cuda/repos/ubuntu2204/x86_64  Packages [645 kB]\n",
            "Hit:9 https://ppa.launchpadcontent.net/deadsnakes/ppa/ubuntu jammy InRelease\n",
            "Hit:10 https://ppa.launchpadcontent.net/graphics-drivers/ppa/ubuntu jammy InRelease\n",
            "Hit:11 https://ppa.launchpadcontent.net/ubuntugis/ppa/ubuntu jammy InRelease\n",
            "Get:12 http://archive.ubuntu.com/ubuntu jammy-updates/main amd64 Packages [1,617 kB]\n",
            "Get:13 http://archive.ubuntu.com/ubuntu jammy-updates/universe amd64 Packages [1,309 kB]\n",
            "Get:14 http://archive.ubuntu.com/ubuntu jammy-updates/restricted amd64 Packages [1,631 kB]\n",
            "Get:15 http://security.ubuntu.com/ubuntu jammy-security/restricted amd64 Packages [1,595 kB]\n",
            "Get:16 http://security.ubuntu.com/ubuntu jammy-security/universe amd64 Packages [1,049 kB]\n",
            "Get:17 http://security.ubuntu.com/ubuntu jammy-security/main amd64 Packages [1,340 kB]\n",
            "Fetched 9,421 kB in 3s (3,473 kB/s)\n",
            "Reading package lists... Done\n",
            "Building dependency tree... Done\n",
            "Reading state information... Done\n",
            "24 packages can be upgraded. Run 'apt list --upgradable' to see them.\n"
          ]
        }
      ],
      "source": [
        "!sudo apt update\n",
        "!apt-get install openjdk-8-jdk-headless -qq > /dev/null\n",
        "!wget -q http://archive.apache.org/dist/spark/spark-3.5.0/spark-3.5.0-bin-hadoop3.tgz\n",
        "!tar xf spark-3.5.0-bin-hadoop3.tgz\n",
        "!pip install -q findspark"
      ]
    },
    {
      "cell_type": "code",
      "source": [
        "import os\n",
        "os.environ[\"JAVA_HOME\"] = \"/usr/lib/jvm/java-8-openjdk-amd64\"\n",
        "os.environ[\"SPARK_HOME\"] = \"/content/spark-3.5.0-bin-hadoop3\""
      ],
      "metadata": {
        "id": "kpZsOlnfuaxs"
      },
      "execution_count": null,
      "outputs": []
    },
    {
      "cell_type": "code",
      "source": [
        "import findspark\n",
        "findspark.init()\n",
        "from pyspark.sql import SparkSession\n",
        "spark = SparkSession.builder.master(\"local[*]\").getOrCreate()\n",
        "spark.conf.set(\"spark.sql.repl.eagerEval.enabled\", True) # Property used to format output tables better\n",
        "spark"
      ],
      "metadata": {
        "colab": {
          "base_uri": "https://localhost:8080/",
          "height": 219
        },
        "id": "hONgnJsqua0R",
        "outputId": "ba39a0bd-c21b-43a0-bed5-1973bc638c51"
      },
      "execution_count": null,
      "outputs": [
        {
          "output_type": "execute_result",
          "data": {
            "text/plain": [
              "<pyspark.sql.session.SparkSession at 0x7a23fdb56650>"
            ],
            "text/html": [
              "\n",
              "            <div>\n",
              "                <p><b>SparkSession - in-memory</b></p>\n",
              "                \n",
              "        <div>\n",
              "            <p><b>SparkContext</b></p>\n",
              "\n",
              "            <p><a href=\"http://f81ab9854b68:4040\">Spark UI</a></p>\n",
              "\n",
              "            <dl>\n",
              "              <dt>Version</dt>\n",
              "                <dd><code>v3.5.0</code></dd>\n",
              "              <dt>Master</dt>\n",
              "                <dd><code>local[*]</code></dd>\n",
              "              <dt>AppName</dt>\n",
              "                <dd><code>pyspark-shell</code></dd>\n",
              "            </dl>\n",
              "        </div>\n",
              "        \n",
              "            </div>\n",
              "        "
            ]
          },
          "metadata": {},
          "execution_count": 3
        }
      ]
    },
    {
      "cell_type": "code",
      "source": [
        "data = [(\"James\",\"M\",60000),(\"Michael\",\"M\",70000),\n",
        "        (\"Robert\",None,400000),(\"Maria\",\"F\",500000),\n",
        "        (\"Jen\",\"\",None)]\n",
        "columns = [\"name\",\"gender\",\"salary\"]"
      ],
      "metadata": {
        "id": "CkZG4_wnvF0v"
      },
      "execution_count": 4,
      "outputs": []
    },
    {
      "cell_type": "code",
      "source": [
        "df = spark.createDataFrame(data=data,schema=columns)\n",
        "df.show()"
      ],
      "metadata": {
        "colab": {
          "base_uri": "https://localhost:8080/"
        },
        "id": "icGvKewMvF3i",
        "outputId": "7914aee0-6000-4caf-8b68-fe7f5cca7dbd"
      },
      "execution_count": 6,
      "outputs": [
        {
          "output_type": "stream",
          "name": "stdout",
          "text": [
            "+-------+------+------+\n",
            "|   name|gender|salary|\n",
            "+-------+------+------+\n",
            "|  James|     M| 60000|\n",
            "|Michael|     M| 70000|\n",
            "| Robert|  NULL|400000|\n",
            "|  Maria|     F|500000|\n",
            "|    Jen|      |  NULL|\n",
            "+-------+------+------+\n",
            "\n"
          ]
        }
      ]
    },
    {
      "cell_type": "code",
      "source": [
        "from pyspark.sql.functions import when,col,expr"
      ],
      "metadata": {
        "id": "vzBxAVEMvF5w"
      },
      "execution_count": 21,
      "outputs": []
    },
    {
      "cell_type": "code",
      "source": [
        "df2 = df.withColumn(\"new_gender\",\n",
        "                    when(df.gender=='M',\"Male\")\n",
        "                    .when(df.gender== 'F',\"Female\")\n",
        "                    .when(df.gender.isNull(),\"\")\n",
        "                    .otherwise(col(\"gender\")) )"
      ],
      "metadata": {
        "id": "569RId0GvF9E"
      },
      "execution_count": 14,
      "outputs": []
    },
    {
      "cell_type": "code",
      "source": [
        "df2.show()"
      ],
      "metadata": {
        "colab": {
          "base_uri": "https://localhost:8080/"
        },
        "id": "igQwjTArvkbK",
        "outputId": "93efbd39-bdbe-4e9f-c31a-24f01184a4ce"
      },
      "execution_count": 15,
      "outputs": [
        {
          "output_type": "stream",
          "name": "stdout",
          "text": [
            "+-------+------+------+----------+\n",
            "|   name|gender|salary|new_gender|\n",
            "+-------+------+------+----------+\n",
            "|  James|     M| 60000|      Male|\n",
            "|Michael|     M| 70000|      Male|\n",
            "| Robert|  NULL|400000|          |\n",
            "|  Maria|     F|500000|    Female|\n",
            "|    Jen|      |  NULL|          |\n",
            "+-------+------+------+----------+\n",
            "\n"
          ]
        }
      ]
    },
    {
      "cell_type": "code",
      "source": [
        "df3 = df.select(col(\"*\"),when(df.gender=='M',\"Male\")\n",
        "                    .when(df.gender== 'F',\"Female\")\n",
        "                    .when(df.gender.isNull(),\"\")\n",
        "                    .otherwise(col(\"gender\")).alias(\"new_gender\"))"
      ],
      "metadata": {
        "id": "H6huaaO9vkd3"
      },
      "execution_count": 19,
      "outputs": []
    },
    {
      "cell_type": "code",
      "source": [
        "df3.show()"
      ],
      "metadata": {
        "colab": {
          "base_uri": "https://localhost:8080/"
        },
        "id": "Cs_5ca5gvkhT",
        "outputId": "a9504e39-9e1d-4311-e74f-9c36a4d2c6ef"
      },
      "execution_count": 20,
      "outputs": [
        {
          "output_type": "stream",
          "name": "stdout",
          "text": [
            "+-------+------+------+----------+\n",
            "|   name|gender|salary|new_gender|\n",
            "+-------+------+------+----------+\n",
            "|  James|     M| 60000|      Male|\n",
            "|Michael|     M| 70000|      Male|\n",
            "| Robert|  NULL|400000|          |\n",
            "|  Maria|     F|500000|    Female|\n",
            "|    Jen|      |  NULL|          |\n",
            "+-------+------+------+----------+\n",
            "\n"
          ]
        }
      ]
    },
    {
      "cell_type": "code",
      "source": [
        "df4 = df.withColumn(\"new_gender\",\n",
        "                    expr(\"CASE WHEN gender == 'M' THEN 'Male' \"+\n",
        "                         \"WHEN gender == 'F' THEN 'Female' \"+\n",
        "                         \"WHEN gender == NULL THEN ''\"+\n",
        "                         \"ELSE gender END\"))"
      ],
      "metadata": {
        "id": "WiMd2xSRw18K"
      },
      "execution_count": 22,
      "outputs": []
    },
    {
      "cell_type": "code",
      "source": [
        "df4.show()"
      ],
      "metadata": {
        "colab": {
          "base_uri": "https://localhost:8080/"
        },
        "id": "bgKhC6Emw1-r",
        "outputId": "7456ca27-7325-4cc0-989f-0fab007eaff3"
      },
      "execution_count": 23,
      "outputs": [
        {
          "output_type": "stream",
          "name": "stdout",
          "text": [
            "+-------+------+------+----------+\n",
            "|   name|gender|salary|new_gender|\n",
            "+-------+------+------+----------+\n",
            "|  James|     M| 60000|      Male|\n",
            "|Michael|     M| 70000|      Male|\n",
            "| Robert|  NULL|400000|      NULL|\n",
            "|  Maria|     F|500000|    Female|\n",
            "|    Jen|      |  NULL|          |\n",
            "+-------+------+------+----------+\n",
            "\n"
          ]
        }
      ]
    },
    {
      "cell_type": "code",
      "source": [
        "df5 = df.select(\"*\",\n",
        "                expr(\"CASE WHEN gender == 'M' THEN 'Male' \"+\n",
        "                         \"WHEN gender == 'F' THEN 'Female' \"+\n",
        "                         \"WHEN gender IS NULL THEN ' '\"+\n",
        "                         \"ELSE gender END\").alias(\"new_gender\"))"
      ],
      "metadata": {
        "id": "NG8SXXrWw2CP"
      },
      "execution_count": 28,
      "outputs": []
    },
    {
      "cell_type": "code",
      "source": [
        "df5.show()"
      ],
      "metadata": {
        "id": "FhLbqT5Mua3z",
        "colab": {
          "base_uri": "https://localhost:8080/"
        },
        "outputId": "92145918-14ad-49ad-fccb-f52a38bab0f9"
      },
      "execution_count": 29,
      "outputs": [
        {
          "output_type": "stream",
          "name": "stdout",
          "text": [
            "+-------+------+------+----------+\n",
            "|   name|gender|salary|new_gender|\n",
            "+-------+------+------+----------+\n",
            "|  James|     M| 60000|      Male|\n",
            "|Michael|     M| 70000|      Male|\n",
            "| Robert|  NULL|400000|          |\n",
            "|  Maria|     F|500000|    Female|\n",
            "|    Jen|      |  NULL|          |\n",
            "+-------+------+------+----------+\n",
            "\n"
          ]
        }
      ]
    },
    {
      "cell_type": "code",
      "source": [
        "df.createOrReplaceTempView(\"EMP\")"
      ],
      "metadata": {
        "id": "UlkgnagCyOfP"
      },
      "execution_count": 31,
      "outputs": []
    },
    {
      "cell_type": "code",
      "source": [
        "spark.sql(\"SELECT name, CASE WHEN gender = 'M' THEN 'Male'\"+\n",
        "          \"WHEN gender = 'F' THEN 'Female'\"+\n",
        "          \"WHEN gender IS NULL THEN ''\"+\n",
        "           \"ELSE gender END AS new_gender FROM EMP\").show()"
      ],
      "metadata": {
        "colab": {
          "base_uri": "https://localhost:8080/"
        },
        "id": "XxyM5zJpyOio",
        "outputId": "8f72f5a3-9976-41e7-9ed8-bb345ab0099e"
      },
      "execution_count": 36,
      "outputs": [
        {
          "output_type": "stream",
          "name": "stdout",
          "text": [
            "+-------+----------+\n",
            "|   name|new_gender|\n",
            "+-------+----------+\n",
            "|  James|      Male|\n",
            "|Michael|      Male|\n",
            "| Robert|          |\n",
            "|  Maria|    Female|\n",
            "|    Jen|          |\n",
            "+-------+----------+\n",
            "\n"
          ]
        }
      ]
    }
  ]
}