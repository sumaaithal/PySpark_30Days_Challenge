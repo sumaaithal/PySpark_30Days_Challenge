{
  "nbformat": 4,
  "nbformat_minor": 0,
  "metadata": {
    "colab": {
      "provenance": [],
      "authorship_tag": "ABX9TyPlKLc7P9XxljbnqoNm33DK",
      "include_colab_link": true
    },
    "kernelspec": {
      "name": "python3",
      "display_name": "Python 3"
    },
    "language_info": {
      "name": "python"
    }
  },
  "cells": [
    {
      "cell_type": "markdown",
      "metadata": {
        "id": "view-in-github",
        "colab_type": "text"
      },
      "source": [
        "<a href=\"https://colab.research.google.com/github/sumaaithal/PySpark_30Days_Challenge/blob/main/pyspark_learn1.ipynb\" target=\"_parent\"><img src=\"https://colab.research.google.com/assets/colab-badge.svg\" alt=\"Open In Colab\"/></a>"
      ]
    },
    {
      "cell_type": "code",
      "execution_count": 4,
      "metadata": {
        "id": "XLdBuaub7xqQ"
      },
      "outputs": [],
      "source": [
        "!apt-get install openjdk-8-jdk-headless -qq > /dev/null\n",
        "!wget -q http://archive.apache.org/dist/spark/spark-3.1.1/spark-3.1.1-bin-hadoop3.2.tgz\n",
        "!tar xf spark-3.1.1-bin-hadoop3.2.tgz\n",
        "!pip install -q findspark"
      ]
    },
    {
      "cell_type": "code",
      "source": [
        "import os\n",
        "os.environ[\"JAVA_HOME\"] = \"/usr/lib/jvm/java-8-openjdk-amd64\"\n",
        "os.environ[\"SPARK_HOME\"] = \"/content/spark-3.1.1-bin-hadoop3.2\""
      ],
      "metadata": {
        "id": "CQlbh3988Do3"
      },
      "execution_count": 5,
      "outputs": []
    },
    {
      "cell_type": "code",
      "source": [
        "import findspark\n",
        "findspark.init()\n",
        "from pyspark.sql import SparkSession\n",
        "spark = SparkSession.builder.master(\"local[*]\").getOrCreate()\n",
        "spark.conf.set(\"spark.sql.repl.eagerEval.enabled\", True) # Property used to format output tables better\n",
        "spark"
      ],
      "metadata": {
        "colab": {
          "base_uri": "https://localhost:8080/",
          "height": 219
        },
        "id": "HEnbSG7R8DrY",
        "outputId": "abd2081f-f84d-474c-deb1-242ab9c6a96e"
      },
      "execution_count": 6,
      "outputs": [
        {
          "output_type": "execute_result",
          "data": {
            "text/plain": [
              "<pyspark.sql.session.SparkSession at 0x7f6d5b6b4400>"
            ],
            "text/html": [
              "\n",
              "            <div>\n",
              "                <p><b>SparkSession - in-memory</b></p>\n",
              "                \n",
              "        <div>\n",
              "            <p><b>SparkContext</b></p>\n",
              "\n",
              "            <p><a href=\"http://0df05e0c4006:4040\">Spark UI</a></p>\n",
              "\n",
              "            <dl>\n",
              "              <dt>Version</dt>\n",
              "                <dd><code>v3.1.1</code></dd>\n",
              "              <dt>Master</dt>\n",
              "                <dd><code>local[*]</code></dd>\n",
              "              <dt>AppName</dt>\n",
              "                <dd><code>pyspark-shell</code></dd>\n",
              "            </dl>\n",
              "        </div>\n",
              "        \n",
              "            </div>\n",
              "        "
            ]
          },
          "metadata": {},
          "execution_count": 6
        }
      ]
    },
    {
      "cell_type": "code",
      "source": [
        "## create RDD"
      ],
      "metadata": {
        "id": "pW-ImsnR8DuI"
      },
      "execution_count": 7,
      "outputs": []
    },
    {
      "cell_type": "code",
      "source": [
        "dataList = [(\"Java\", 20000), (\"Python\", 100000), (\"Scala\", 3000)]"
      ],
      "metadata": {
        "id": "Yp50wNGv8WX6"
      },
      "execution_count": 8,
      "outputs": []
    },
    {
      "cell_type": "code",
      "source": [
        "rdd = spark.sparkContext.parallelize(dataList)"
      ],
      "metadata": {
        "id": "Jnsous3_8Wah"
      },
      "execution_count": 9,
      "outputs": []
    },
    {
      "cell_type": "code",
      "source": [
        "## creating the dataframe"
      ],
      "metadata": {
        "id": "VrrDl1sZ8We2"
      },
      "execution_count": 10,
      "outputs": []
    },
    {
      "cell_type": "code",
      "source": [
        "data = [('James','','Smith','1991-04-01','M',3000),\n",
        "  ('Michael','Rose','','2000-05-19','M',4000),\n",
        "  ('Robert','','Williams','1978-09-05','M',4000),\n",
        "  ('Maria','Anne','Jones','1967-12-01','F',4000),\n",
        "  ('Jen','Mary','Brown','1980-02-17','F',-1)\n",
        "]"
      ],
      "metadata": {
        "id": "nh3_h3os8Wg4"
      },
      "execution_count": 11,
      "outputs": []
    },
    {
      "cell_type": "code",
      "source": [
        "columns = ['FName','MName','LName',\"DOB\",'Gender','Salary']"
      ],
      "metadata": {
        "id": "K_2MdRMr8Dxl"
      },
      "execution_count": 12,
      "outputs": []
    },
    {
      "cell_type": "code",
      "source": [
        "df = spark.createDataFrame(data=data,schema=columns)"
      ],
      "metadata": {
        "id": "48KB3uDQHPSD"
      },
      "execution_count": 13,
      "outputs": []
    },
    {
      "cell_type": "code",
      "source": [
        "df.show()"
      ],
      "metadata": {
        "colab": {
          "base_uri": "https://localhost:8080/"
        },
        "id": "C4dZPHlsHPUq",
        "outputId": "ad7ad95e-28a3-4398-e672-c4630ab9bf70"
      },
      "execution_count": 14,
      "outputs": [
        {
          "output_type": "stream",
          "name": "stdout",
          "text": [
            "+-------+-----+--------+----------+------+------+\n",
            "|  FName|MName|   LName|       DOB|Gender|Salary|\n",
            "+-------+-----+--------+----------+------+------+\n",
            "|  James|     |   Smith|1991-04-01|     M|  3000|\n",
            "|Michael| Rose|        |2000-05-19|     M|  4000|\n",
            "| Robert|     |Williams|1978-09-05|     M|  4000|\n",
            "|  Maria| Anne|   Jones|1967-12-01|     F|  4000|\n",
            "|    Jen| Mary|   Brown|1980-02-17|     F|    -1|\n",
            "+-------+-----+--------+----------+------+------+\n",
            "\n"
          ]
        }
      ]
    },
    {
      "cell_type": "code",
      "source": [
        "##Sql"
      ],
      "metadata": {
        "id": "8OUbhHFJHPXT"
      },
      "execution_count": 15,
      "outputs": []
    },
    {
      "cell_type": "code",
      "source": [
        "df.createOrReplaceTempView(\"People_data\")"
      ],
      "metadata": {
        "id": "CaNNNJ7lHPad"
      },
      "execution_count": 16,
      "outputs": []
    },
    {
      "cell_type": "code",
      "source": [
        "df2 = spark.sql(\"select * from People_data\")"
      ],
      "metadata": {
        "id": "2j8XkIH0Hszr"
      },
      "execution_count": 17,
      "outputs": []
    },
    {
      "cell_type": "code",
      "source": [
        "df2.show()"
      ],
      "metadata": {
        "colab": {
          "base_uri": "https://localhost:8080/"
        },
        "id": "jvSaX2q7Hs2O",
        "outputId": "0e41c955-adf0-4b38-d1f7-f5abe4d133ba"
      },
      "execution_count": 18,
      "outputs": [
        {
          "output_type": "stream",
          "name": "stdout",
          "text": [
            "+-------+-----+--------+----------+------+------+\n",
            "|  FName|MName|   LName|       DOB|Gender|Salary|\n",
            "+-------+-----+--------+----------+------+------+\n",
            "|  James|     |   Smith|1991-04-01|     M|  3000|\n",
            "|Michael| Rose|        |2000-05-19|     M|  4000|\n",
            "| Robert|     |Williams|1978-09-05|     M|  4000|\n",
            "|  Maria| Anne|   Jones|1967-12-01|     F|  4000|\n",
            "|    Jen| Mary|   Brown|1980-02-17|     F|    -1|\n",
            "+-------+-----+--------+----------+------+------+\n",
            "\n"
          ]
        }
      ]
    },
    {
      "cell_type": "code",
      "source": [
        "df3 = spark.sql(\"select Gender,count(*) from People_data group by Gender\")"
      ],
      "metadata": {
        "id": "4b39GuPQHs42"
      },
      "execution_count": 21,
      "outputs": []
    },
    {
      "cell_type": "code",
      "source": [
        "df3.show()"
      ],
      "metadata": {
        "colab": {
          "base_uri": "https://localhost:8080/"
        },
        "id": "VUeSyJFuHs8K",
        "outputId": "ef6e2192-ef6e-428e-f699-5ec2fe95596b"
      },
      "execution_count": 22,
      "outputs": [
        {
          "output_type": "stream",
          "name": "stdout",
          "text": [
            "+------+--------+\n",
            "|Gender|count(1)|\n",
            "+------+--------+\n",
            "|     F|       2|\n",
            "|     M|       3|\n",
            "+------+--------+\n",
            "\n"
          ]
        }
      ]
    },
    {
      "cell_type": "code",
      "source": [],
      "metadata": {
        "id": "2fyhOl9GIIzz"
      },
      "execution_count": null,
      "outputs": []
    },
    {
      "cell_type": "code",
      "source": [],
      "metadata": {
        "id": "ym0eLNWvII29"
      },
      "execution_count": null,
      "outputs": []
    }
  ]
}