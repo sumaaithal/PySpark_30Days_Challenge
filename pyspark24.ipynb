{
  "nbformat": 4,
  "nbformat_minor": 0,
  "metadata": {
    "colab": {
      "provenance": [],
      "authorship_tag": "ABX9TyP7KFDGG0JtSRyBv8FFZGSP",
      "include_colab_link": true
    },
    "kernelspec": {
      "name": "python3",
      "display_name": "Python 3"
    },
    "language_info": {
      "name": "python"
    }
  },
  "cells": [
    {
      "cell_type": "markdown",
      "metadata": {
        "id": "view-in-github",
        "colab_type": "text"
      },
      "source": [
        "<a href=\"https://colab.research.google.com/github/sumaaithal/PySpark_30Days_Challenge/blob/main/pyspark24.ipynb\" target=\"_parent\"><img src=\"https://colab.research.google.com/assets/colab-badge.svg\" alt=\"Open In Colab\"/></a>"
      ]
    },
    {
      "cell_type": "code",
      "execution_count": 1,
      "metadata": {
        "colab": {
          "base_uri": "https://localhost:8080/"
        },
        "id": "hqQBbr-D88n_",
        "outputId": "e6c55c6a-c926-4fab-e65c-ebb2ec8a9e8c"
      },
      "outputs": [
        {
          "output_type": "stream",
          "name": "stdout",
          "text": [
            "Get:1 https://cloud.r-project.org/bin/linux/ubuntu jammy-cran40/ InRelease [3,626 B]\n",
            "Get:2 http://security.ubuntu.com/ubuntu jammy-security InRelease [110 kB]\n",
            "Hit:3 https://developer.download.nvidia.com/compute/cuda/repos/ubuntu2204/x86_64  InRelease\n",
            "Hit:4 http://archive.ubuntu.com/ubuntu jammy InRelease\n",
            "Get:5 http://archive.ubuntu.com/ubuntu jammy-updates InRelease [119 kB]\n",
            "Hit:6 http://archive.ubuntu.com/ubuntu jammy-backports InRelease\n",
            "Hit:7 https://ppa.launchpadcontent.net/c2d4u.team/c2d4u4.0+/ubuntu jammy InRelease\n",
            "Hit:8 https://ppa.launchpadcontent.net/deadsnakes/ppa/ubuntu jammy InRelease\n",
            "Hit:9 https://ppa.launchpadcontent.net/graphics-drivers/ppa/ubuntu jammy InRelease\n",
            "Hit:10 https://ppa.launchpadcontent.net/ubuntugis/ppa/ubuntu jammy InRelease\n",
            "Get:11 http://security.ubuntu.com/ubuntu jammy-security/main amd64 Packages [1,332 kB]\n",
            "Get:12 http://archive.ubuntu.com/ubuntu jammy-updates/main amd64 Packages [1,606 kB]\n",
            "Get:13 http://security.ubuntu.com/ubuntu jammy-security/restricted amd64 Packages [1,582 kB]\n",
            "Get:14 http://security.ubuntu.com/ubuntu jammy-security/universe amd64 Packages [1,047 kB]\n",
            "Get:15 http://archive.ubuntu.com/ubuntu jammy-updates/universe amd64 Packages [1,307 kB]\n",
            "Get:16 http://archive.ubuntu.com/ubuntu jammy-updates/restricted amd64 Packages [1,611 kB]\n",
            "Fetched 8,718 kB in 4s (2,459 kB/s)\n",
            "Reading package lists... Done\n",
            "Building dependency tree... Done\n",
            "Reading state information... Done\n",
            "24 packages can be upgraded. Run 'apt list --upgradable' to see them.\n"
          ]
        }
      ],
      "source": [
        "!sudo apt update\n",
        "!apt-get install openjdk-8-jdk-headless -qq > /dev/null\n",
        "!wget -q http://archive.apache.org/dist/spark/spark-3.5.0/spark-3.5.0-bin-hadoop3.tgz\n",
        "!tar xf spark-3.5.0-bin-hadoop3.tgz\n",
        "!pip install -q findspark"
      ]
    },
    {
      "cell_type": "code",
      "source": [
        "import os\n",
        "os.environ[\"JAVA_HOME\"] = \"/usr/lib/jvm/java-8-openjdk-amd64\"\n",
        "os.environ[\"SPARK_HOME\"] = \"/content/spark-3.5.0-bin-hadoop3\""
      ],
      "metadata": {
        "id": "8RLsm03s9BI2"
      },
      "execution_count": 2,
      "outputs": []
    },
    {
      "cell_type": "code",
      "source": [
        "import findspark\n",
        "findspark.init()\n",
        "from pyspark.sql import SparkSession\n",
        "spark = SparkSession.builder.master(\"local[*]\").getOrCreate()\n",
        "spark.conf.set(\"spark.sql.repl.eagerEval.enabled\", True) # Property used to format output tables better\n",
        "spark"
      ],
      "metadata": {
        "colab": {
          "base_uri": "https://localhost:8080/",
          "height": 219
        },
        "id": "6dVjlJs_9BLf",
        "outputId": "47a23ca3-d50f-4e0d-ca3f-75b967fea8ad"
      },
      "execution_count": 3,
      "outputs": [
        {
          "output_type": "execute_result",
          "data": {
            "text/plain": [
              "<pyspark.sql.session.SparkSession at 0x7ce4980b4070>"
            ],
            "text/html": [
              "\n",
              "            <div>\n",
              "                <p><b>SparkSession - in-memory</b></p>\n",
              "                \n",
              "        <div>\n",
              "            <p><b>SparkContext</b></p>\n",
              "\n",
              "            <p><a href=\"http://3161d737d519:4040\">Spark UI</a></p>\n",
              "\n",
              "            <dl>\n",
              "              <dt>Version</dt>\n",
              "                <dd><code>v3.5.0</code></dd>\n",
              "              <dt>Master</dt>\n",
              "                <dd><code>local[*]</code></dd>\n",
              "              <dt>AppName</dt>\n",
              "                <dd><code>pyspark-shell</code></dd>\n",
              "            </dl>\n",
              "        </div>\n",
              "        \n",
              "            </div>\n",
              "        "
            ]
          },
          "metadata": {},
          "execution_count": 3
        }
      ]
    },
    {
      "cell_type": "code",
      "source": [
        "from pyspark.sql.functions import *\n",
        "from pyspark.sql.functions import date_format,col, to_date"
      ],
      "metadata": {
        "id": "pIH0bYNY9olW"
      },
      "execution_count": 19,
      "outputs": []
    },
    {
      "cell_type": "code",
      "source": [
        "data=[[\"1\",\"2020-02-01\"],[\"2\",\"2019-03-01\"],[\"3\",\"2021-03-01\"]]\n",
        "\n",
        "df = spark.createDataFrame(data=data,schema=[\"id\",\"date\"])\n",
        "df.show()"
      ],
      "metadata": {
        "colab": {
          "base_uri": "https://localhost:8080/"
        },
        "id": "A6OivxeZ9BPD",
        "outputId": "c84835f9-7d80-4cfa-ae5a-2bc7a161fe63"
      },
      "execution_count": 4,
      "outputs": [
        {
          "output_type": "stream",
          "name": "stdout",
          "text": [
            "+---+----------+\n",
            "| id|      date|\n",
            "+---+----------+\n",
            "|  1|2020-02-01|\n",
            "|  2|2019-03-01|\n",
            "|  3|2021-03-01|\n",
            "+---+----------+\n",
            "\n"
          ]
        }
      ]
    },
    {
      "cell_type": "code",
      "source": [
        "df.select(current_date().alias(\"current_date\")).show(1)"
      ],
      "metadata": {
        "colab": {
          "base_uri": "https://localhost:8080/"
        },
        "id": "Kk5P6s429fVR",
        "outputId": "02cf8d7f-8c31-447e-f3a7-e98ac059d08f"
      },
      "execution_count": 7,
      "outputs": [
        {
          "output_type": "stream",
          "name": "stdout",
          "text": [
            "+------------+\n",
            "|current_date|\n",
            "+------------+\n",
            "|  2024-01-08|\n",
            "+------------+\n",
            "only showing top 1 row\n",
            "\n"
          ]
        }
      ]
    },
    {
      "cell_type": "code",
      "source": [
        "df.select(col(\"date\"),date_format(col(\"date\"),\"MM-dd-yyyy\")).show()"
      ],
      "metadata": {
        "colab": {
          "base_uri": "https://localhost:8080/"
        },
        "id": "VJ0kSyNi9fYr",
        "outputId": "a481e8ab-aad6-4e84-a732-518c83a92a7b"
      },
      "execution_count": 18,
      "outputs": [
        {
          "output_type": "stream",
          "name": "stdout",
          "text": [
            "+----------+-----------------------------+\n",
            "|      date|date_format(date, MM-dd-yyyy)|\n",
            "+----------+-----------------------------+\n",
            "|2020-02-01|                   02-01-2020|\n",
            "|2019-03-01|                   03-01-2019|\n",
            "|2021-03-01|                   03-01-2021|\n",
            "+----------+-----------------------------+\n",
            "\n"
          ]
        }
      ]
    },
    {
      "cell_type": "code",
      "source": [
        "df.select(col(\"date\"),\n",
        "          to_date(col(\"date\"),\"yyyy-mm-dd\").alias(\"to_date\")).show()"
      ],
      "metadata": {
        "colab": {
          "base_uri": "https://localhost:8080/"
        },
        "id": "Nvz77EzE-zTh",
        "outputId": "6f263ea5-92dc-4062-f366-c0421be69afe"
      },
      "execution_count": 20,
      "outputs": [
        {
          "output_type": "stream",
          "name": "stdout",
          "text": [
            "+----------+----------+\n",
            "|      date|   to_date|\n",
            "+----------+----------+\n",
            "|2020-02-01|2020-01-01|\n",
            "|2019-03-01|2019-01-01|\n",
            "|2021-03-01|2021-01-01|\n",
            "+----------+----------+\n",
            "\n"
          ]
        }
      ]
    },
    {
      "cell_type": "code",
      "source": [
        "df.select(col(\"date\"),\n",
        "          date_diff(current_date(),col(\"date\")).alias(\"date_difference\")).show()"
      ],
      "metadata": {
        "colab": {
          "base_uri": "https://localhost:8080/"
        },
        "id": "PcWnyRt7-zW0",
        "outputId": "3feb08cd-3f22-40de-cd45-e3a4dccc7b9a"
      },
      "execution_count": 23,
      "outputs": [
        {
          "output_type": "stream",
          "name": "stdout",
          "text": [
            "+----------+---------------+\n",
            "|      date|date_difference|\n",
            "+----------+---------------+\n",
            "|2020-02-01|           1437|\n",
            "|2019-03-01|           1774|\n",
            "|2021-03-01|           1043|\n",
            "+----------+---------------+\n",
            "\n"
          ]
        }
      ]
    },
    {
      "cell_type": "code",
      "source": [
        "df.select(col(\"date\"),\n",
        "          months_between(current_date(),col(\"date\")).alias(\"months_difference\")).show()"
      ],
      "metadata": {
        "colab": {
          "base_uri": "https://localhost:8080/"
        },
        "id": "48Zbh5A8_xIV",
        "outputId": "e08b311b-6614-4a3e-e559-9524bb8c7342"
      },
      "execution_count": 25,
      "outputs": [
        {
          "output_type": "stream",
          "name": "stdout",
          "text": [
            "+----------+-----------------+\n",
            "|      date|months_difference|\n",
            "+----------+-----------------+\n",
            "|2020-02-01|      47.22580645|\n",
            "|2019-03-01|      58.22580645|\n",
            "|2021-03-01|      34.22580645|\n",
            "+----------+-----------------+\n",
            "\n"
          ]
        }
      ]
    },
    {
      "cell_type": "code",
      "source": [
        "df.select(col(\"date\"),\n",
        "          add_months(col(\"date\"),3).alias(\"months_add\"),\n",
        "          add_months(col(\"date\"),-3).alias(\"months_sub\"),\n",
        "          date_add(col(\"date\"),3).alias(\"date_add\"),\n",
        "          date_sub(col(\"date\"),3).alias(\"date_sub\")).show()"
      ],
      "metadata": {
        "colab": {
          "base_uri": "https://localhost:8080/"
        },
        "id": "Fi8kVS0A_xLs",
        "outputId": "af6959e1-1880-4070-bec4-281d34338417"
      },
      "execution_count": 30,
      "outputs": [
        {
          "output_type": "stream",
          "name": "stdout",
          "text": [
            "+----------+----------+----------+----------+----------+\n",
            "|      date|months_add|months_sub|  date_add|  date_sub|\n",
            "+----------+----------+----------+----------+----------+\n",
            "|2020-02-01|2020-05-01|2019-11-01|2020-02-04|2020-01-29|\n",
            "|2019-03-01|2019-06-01|2018-12-01|2019-03-04|2019-02-26|\n",
            "|2021-03-01|2021-06-01|2020-12-01|2021-03-04|2021-02-26|\n",
            "+----------+----------+----------+----------+----------+\n",
            "\n"
          ]
        }
      ]
    },
    {
      "cell_type": "code",
      "source": [
        "df.select(col(\"date\"),\n",
        "          year(col(\"date\")).alias(\"year\"),\n",
        "          month(col(\"date\")).alias(\"month\"),\n",
        "          next_day(col(\"date\"),\"sunday\").alias(\"next_day\"),\n",
        "          weekofyear(col(\"date\")).alias(\"weekofyear\")).show()"
      ],
      "metadata": {
        "colab": {
          "base_uri": "https://localhost:8080/"
        },
        "id": "o3KCG-nzBl4o",
        "outputId": "fa3b962d-2612-4f6c-9717-e28cf5f9f44e"
      },
      "execution_count": 31,
      "outputs": [
        {
          "output_type": "stream",
          "name": "stdout",
          "text": [
            "+----------+----+-----+----------+----------+\n",
            "|      date|year|month|  next_day|weekofyear|\n",
            "+----------+----+-----+----------+----------+\n",
            "|2020-02-01|2020|    2|2020-02-02|         5|\n",
            "|2019-03-01|2019|    3|2019-03-03|         9|\n",
            "|2021-03-01|2021|    3|2021-03-07|         9|\n",
            "+----------+----+-----+----------+----------+\n",
            "\n"
          ]
        }
      ]
    },
    {
      "cell_type": "code",
      "source": [
        "df.select(col(\"date\"),\n",
        "          dayofweek(col(\"date\")).alias(\"dayofweek\"),\n",
        "          dayofmonth(col(\"date\")).alias(\"dayofmonth\"),\n",
        "          dayofyear(col(\"date\")).alias(\"dayofyear\")).show()"
      ],
      "metadata": {
        "colab": {
          "base_uri": "https://localhost:8080/"
        },
        "id": "hnznAs8cBl7S",
        "outputId": "6890983a-aa11-4f8e-da54-b2631c49c0c8"
      },
      "execution_count": 32,
      "outputs": [
        {
          "output_type": "stream",
          "name": "stdout",
          "text": [
            "+----------+---------+----------+---------+\n",
            "|      date|dayofweek|dayofmonth|dayofyear|\n",
            "+----------+---------+----------+---------+\n",
            "|2020-02-01|        7|         1|       32|\n",
            "|2019-03-01|        6|         1|       60|\n",
            "|2021-03-01|        2|         1|       60|\n",
            "+----------+---------+----------+---------+\n",
            "\n"
          ]
        }
      ]
    },
    {
      "cell_type": "code",
      "source": [
        "data=[[\"1\",\"02-01-2020 11 01 19 06\"],[\"2\",\"03-01-2019 12 01 19 406\"],[\"3\",\"03-01-2021 12 01 19 406\"]]\n",
        "df2 = spark.createDataFrame(data=data,schema=[\"id\",\"datestamps\"])\n",
        "df2.show(truncate=False)"
      ],
      "metadata": {
        "colab": {
          "base_uri": "https://localhost:8080/"
        },
        "id": "GUngt-vzCI9Q",
        "outputId": "cff2b619-603d-4cd2-ba5b-70d0b948acb7"
      },
      "execution_count": 35,
      "outputs": [
        {
          "output_type": "stream",
          "name": "stdout",
          "text": [
            "+---+-----------------------+\n",
            "|id |datestamps             |\n",
            "+---+-----------------------+\n",
            "|1  |02-01-2020 11 01 19 06 |\n",
            "|2  |03-01-2019 12 01 19 406|\n",
            "|3  |03-01-2021 12 01 19 406|\n",
            "+---+-----------------------+\n",
            "\n"
          ]
        }
      ]
    },
    {
      "cell_type": "code",
      "source": [
        "df2.select(current_timestamp().alias(\"current_timestamp\")).show(1,truncate=False)"
      ],
      "metadata": {
        "colab": {
          "base_uri": "https://localhost:8080/"
        },
        "id": "uAi3L-MwCJAJ",
        "outputId": "4395f194-3006-4e23-af0f-99d5d963fdaa"
      },
      "execution_count": 37,
      "outputs": [
        {
          "output_type": "stream",
          "name": "stdout",
          "text": [
            "+-----------------------+\n",
            "|current_timestamp      |\n",
            "+-----------------------+\n",
            "|2024-01-08 07:47:41.838|\n",
            "+-----------------------+\n",
            "only showing top 1 row\n",
            "\n"
          ]
        }
      ]
    },
    {
      "cell_type": "code",
      "source": [
        "data=[[\"1\",\"2020-02-01 11:01:19.06\"],[\"2\",\"2019-03-01 12:01:19.406\"],[\"3\",\"2021-03-01 12:01:19.406\"]]\n",
        "df3=spark.createDataFrame(data,[\"id\",\"datestamps\"])\n",
        "\n",
        "df3.select(col(\"datestamps\"),\n",
        "           hour(col(\"datestamps\")).alias(\"hour\"),\n",
        "           minute(col(\"datestamps\")).alias(\"minute\"),\n",
        "           second(col(\"datestamps\")).alias(\"seconds\")).show()"
      ],
      "metadata": {
        "colab": {
          "base_uri": "https://localhost:8080/"
        },
        "id": "EOshacE8CJGM",
        "outputId": "384fd280-19df-4f49-fbef-7eb29f871d38"
      },
      "execution_count": 50,
      "outputs": [
        {
          "output_type": "stream",
          "name": "stdout",
          "text": [
            "+--------------------+----+------+-------+\n",
            "|          datestamps|hour|minute|seconds|\n",
            "+--------------------+----+------+-------+\n",
            "|2020-02-01 11:01:...|  11|     1|     19|\n",
            "|2019-03-01 12:01:...|  12|     1|     19|\n",
            "|2021-03-01 12:01:...|  12|     1|     19|\n",
            "+--------------------+----+------+-------+\n",
            "\n"
          ]
        }
      ]
    },
    {
      "cell_type": "code",
      "source": [],
      "metadata": {
        "id": "1TY6hV3BBl-l"
      },
      "execution_count": null,
      "outputs": []
    }
  ]
}