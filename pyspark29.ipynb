{
  "cells": [
    {
      "cell_type": "markdown",
      "metadata": {
        "id": "view-in-github",
        "colab_type": "text"
      },
      "source": [
        "<a href=\"https://colab.research.google.com/github/sumaaithal/PySpark_30Days_Challenge/blob/main/pyspark29.ipynb\" target=\"_parent\"><img src=\"https://colab.research.google.com/assets/colab-badge.svg\" alt=\"Open In Colab\"/></a>"
      ]
    },
    {
      "cell_type": "code",
      "execution_count": null,
      "metadata": {
        "colab": {
          "base_uri": "https://localhost:8080/"
        },
        "id": "poWoUqeS1g8d",
        "outputId": "82efd5f3-6f95-4334-88b6-002000d427b5"
      },
      "outputs": [
        {
          "name": "stdout",
          "output_type": "stream",
          "text": [
            "\u001b[33m\r0% [Working]\u001b[0m\r            \rGet:1 https://cloud.r-project.org/bin/linux/ubuntu jammy-cran40/ InRelease [3,626 B]\n",
            "Hit:2 https://developer.download.nvidia.com/compute/cuda/repos/ubuntu2204/x86_64  InRelease\n",
            "Hit:3 http://archive.ubuntu.com/ubuntu jammy InRelease\n",
            "Get:4 http://security.ubuntu.com/ubuntu jammy-security InRelease [110 kB]\n",
            "Get:5 http://archive.ubuntu.com/ubuntu jammy-updates InRelease [119 kB]\n",
            "Get:6 https://ppa.launchpadcontent.net/c2d4u.team/c2d4u4.0+/ubuntu jammy InRelease [18.1 kB]\n",
            "Hit:7 https://ppa.launchpadcontent.net/deadsnakes/ppa/ubuntu jammy InRelease\n",
            "Hit:8 http://archive.ubuntu.com/ubuntu jammy-backports InRelease\n",
            "Hit:9 https://ppa.launchpadcontent.net/graphics-drivers/ppa/ubuntu jammy InRelease\n",
            "Hit:10 https://ppa.launchpadcontent.net/ubuntugis/ppa/ubuntu jammy InRelease\n",
            "Get:11 http://archive.ubuntu.com/ubuntu jammy-updates/universe amd64 Packages [1,309 kB]\n",
            "Get:12 https://ppa.launchpadcontent.net/c2d4u.team/c2d4u4.0+/ubuntu jammy/main Sources [2,263 kB]\n",
            "Get:13 http://archive.ubuntu.com/ubuntu jammy-updates/main amd64 Packages [1,617 kB]\n",
            "Get:14 https://ppa.launchpadcontent.net/c2d4u.team/c2d4u4.0+/ubuntu jammy/main amd64 Packages [1,161 kB]\n",
            "Fetched 6,601 kB in 2s (3,404 kB/s)\n",
            "Reading package lists... Done\n",
            "Building dependency tree... Done\n",
            "Reading state information... Done\n",
            "25 packages can be upgraded. Run 'apt list --upgradable' to see them.\n"
          ]
        }
      ],
      "source": [
        "!sudo apt update\n",
        "!apt-get install openjdk-8-jdk-headless -qq > /dev/null\n",
        "!wget -q http://archive.apache.org/dist/spark/spark-3.5.0/spark-3.5.0-bin-hadoop3.tgz\n",
        "!tar xf spark-3.5.0-bin-hadoop3.tgz\n",
        "!pip install -q findspark"
      ]
    },
    {
      "cell_type": "code",
      "execution_count": null,
      "metadata": {
        "id": "gcLOr5Xq1l0R"
      },
      "outputs": [],
      "source": [
        "import os\n",
        "os.environ[\"JAVA_HOME\"] = \"/usr/lib/jvm/java-8-openjdk-amd64\"\n",
        "os.environ[\"SPARK_HOME\"] = \"/content/spark-3.5.0-bin-hadoop3\""
      ]
    },
    {
      "cell_type": "code",
      "execution_count": null,
      "metadata": {
        "colab": {
          "base_uri": "https://localhost:8080/",
          "height": 219
        },
        "id": "GYID8DPM1l29",
        "outputId": "3429690f-38ca-4cc9-a446-55bd5b46884f"
      },
      "outputs": [
        {
          "data": {
            "text/html": [
              "\n",
              "            <div>\n",
              "                <p><b>SparkSession - in-memory</b></p>\n",
              "                \n",
              "        <div>\n",
              "            <p><b>SparkContext</b></p>\n",
              "\n",
              "            <p><a href=\"http://3c98a57f1ee6:4040\">Spark UI</a></p>\n",
              "\n",
              "            <dl>\n",
              "              <dt>Version</dt>\n",
              "                <dd><code>v3.5.0</code></dd>\n",
              "              <dt>Master</dt>\n",
              "                <dd><code>local[*]</code></dd>\n",
              "              <dt>AppName</dt>\n",
              "                <dd><code>pyspark-shell</code></dd>\n",
              "            </dl>\n",
              "        </div>\n",
              "        \n",
              "            </div>\n",
              "        "
            ],
            "text/plain": [
              "<pyspark.sql.session.SparkSession at 0x786344182830>"
            ]
          },
          "execution_count": 3,
          "metadata": {},
          "output_type": "execute_result"
        }
      ],
      "source": [
        "import findspark\n",
        "findspark.init()\n",
        "from pyspark.sql import SparkSession\n",
        "spark = SparkSession.builder.master(\"local[*]\").getOrCreate()\n",
        "spark.conf.set(\"spark.sql.repl.eagerEval.enabled\", True) # Property used to format output tables better\n",
        "spark"
      ]
    },
    {
      "cell_type": "code",
      "source": [
        "from pyspark.sql.functions import col,split"
      ],
      "metadata": {
        "id": "DNAAGJoK33Wr"
      },
      "execution_count": 8,
      "outputs": []
    },
    {
      "cell_type": "code",
      "execution_count": 6,
      "metadata": {
        "id": "x9xvUVcO1l6W"
      },
      "outputs": [],
      "source": [
        "data = [(\"James, A, Smith\",\"2018\",\"M\",3000),\n",
        "            (\"Michael, Rose, Jones\",\"2010\",\"M\",4000),\n",
        "            (\"Robert,K,Williams\",\"2010\",\"M\",4000),\n",
        "            (\"Maria,Anne,Jones\",\"2005\",\"F\",4000),\n",
        "            (\"Jen,Mary,Brown\",\"2010\",\"\",-1)\n",
        "            ]\n",
        "\n",
        "columns=[\"name\",\"dob_year\",\"gender\",\"salary\"]\n",
        "\n",
        "df = spark.createDataFrame(data=data,schema=columns)"
      ]
    },
    {
      "cell_type": "code",
      "execution_count": 7,
      "metadata": {
        "id": "tBOIH8_53GEA",
        "colab": {
          "base_uri": "https://localhost:8080/"
        },
        "outputId": "c2024738-9c1b-41ce-925e-96a0c078cd04"
      },
      "outputs": [
        {
          "output_type": "stream",
          "name": "stdout",
          "text": [
            "+--------------------+--------+------+------+\n",
            "|                name|dob_year|gender|salary|\n",
            "+--------------------+--------+------+------+\n",
            "|     James, A, Smith|    2018|     M|  3000|\n",
            "|Michael, Rose, Jones|    2010|     M|  4000|\n",
            "|   Robert,K,Williams|    2010|     M|  4000|\n",
            "|    Maria,Anne,Jones|    2005|     F|  4000|\n",
            "|      Jen,Mary,Brown|    2010|      |    -1|\n",
            "+--------------------+--------+------+------+\n",
            "\n"
          ]
        }
      ],
      "source": [
        "df.show()"
      ]
    },
    {
      "cell_type": "code",
      "execution_count": 9,
      "metadata": {
        "id": "nc7HvfFI3GGe"
      },
      "outputs": [],
      "source": [
        "df2 = df.select(split(col(\"name\"),\",\").alias(\"nameArray\"))"
      ]
    },
    {
      "cell_type": "code",
      "execution_count": 11,
      "metadata": {
        "id": "IGI5F6a33GI8",
        "colab": {
          "base_uri": "https://localhost:8080/"
        },
        "outputId": "abeec72f-a98a-4f18-fae8-c3ba45b593d5"
      },
      "outputs": [
        {
          "output_type": "stream",
          "name": "stdout",
          "text": [
            "+------------------------+\n",
            "|nameArray               |\n",
            "+------------------------+\n",
            "|[James,  A,  Smith]     |\n",
            "|[Michael,  Rose,  Jones]|\n",
            "|[Robert, K, Williams]   |\n",
            "|[Maria, Anne, Jones]    |\n",
            "|[Jen, Mary, Brown]      |\n",
            "+------------------------+\n",
            "\n"
          ]
        }
      ],
      "source": [
        "df2.show(truncate=False)"
      ]
    },
    {
      "cell_type": "code",
      "execution_count": 12,
      "metadata": {
        "id": "albqZsE83GL2"
      },
      "outputs": [],
      "source": [
        "df.createOrReplaceTempView(\"PERSON\")"
      ]
    },
    {
      "cell_type": "code",
      "execution_count": 14,
      "metadata": {
        "id": "zSKy5nga3GPb",
        "colab": {
          "base_uri": "https://localhost:8080/"
        },
        "outputId": "217e8e8b-41f6-4397-89c3-d6221e6b2893"
      },
      "outputs": [
        {
          "output_type": "stream",
          "name": "stdout",
          "text": [
            "+------------------------+\n",
            "|name_array              |\n",
            "+------------------------+\n",
            "|[James,  A,  Smith]     |\n",
            "|[Michael,  Rose,  Jones]|\n",
            "|[Robert, K, Williams]   |\n",
            "|[Maria, Anne, Jones]    |\n",
            "|[Jen, Mary, Brown]      |\n",
            "+------------------------+\n",
            "\n"
          ]
        }
      ],
      "source": [
        "spark.sql(\"SELECT SPLIT(name,',') as name_array FROM PERSON\").show(truncate=False)"
      ]
    },
    {
      "cell_type": "code",
      "source": [],
      "metadata": {
        "id": "oIc30wNV4eeZ"
      },
      "execution_count": null,
      "outputs": []
    },
    {
      "cell_type": "code",
      "source": [],
      "metadata": {
        "id": "lWeoh8t64ehf"
      },
      "execution_count": null,
      "outputs": []
    },
    {
      "cell_type": "code",
      "source": [],
      "metadata": {
        "id": "3d7GiDcn4elU"
      },
      "execution_count": null,
      "outputs": []
    }
  ],
  "metadata": {
    "colab": {
      "provenance": [],
      "authorship_tag": "ABX9TyNPSbsRs4Z2zYrmiffq1AA2",
      "include_colab_link": true
    },
    "kernelspec": {
      "display_name": "Python 3",
      "name": "python3"
    },
    "language_info": {
      "name": "python"
    }
  },
  "nbformat": 4,
  "nbformat_minor": 0
}