{
  "nbformat": 4,
  "nbformat_minor": 0,
  "metadata": {
    "colab": {
      "provenance": [],
      "authorship_tag": "ABX9TyMEomwqUWUDUhrOynHOlAJU",
      "include_colab_link": true
    },
    "kernelspec": {
      "name": "python3",
      "display_name": "Python 3"
    },
    "language_info": {
      "name": "python"
    }
  },
  "cells": [
    {
      "cell_type": "markdown",
      "metadata": {
        "id": "view-in-github",
        "colab_type": "text"
      },
      "source": [
        "<a href=\"https://colab.research.google.com/github/sumaaithal/PySpark_30Days_Challenge/blob/main/pyspark_learn3.ipynb\" target=\"_parent\"><img src=\"https://colab.research.google.com/assets/colab-badge.svg\" alt=\"Open In Colab\"/></a>"
      ]
    },
    {
      "cell_type": "code",
      "execution_count": 1,
      "metadata": {
        "id": "GipykO6pkqks"
      },
      "outputs": [],
      "source": [
        "!apt-get install openjdk-8-jdk-headless -qq > /dev/null\n",
        "!wget -q http://archive.apache.org/dist/spark/spark-3.1.1/spark-3.1.1-bin-hadoop3.2.tgz\n",
        "!tar xf spark-3.1.1-bin-hadoop3.2.tgz\n",
        "!pip install -q findspark"
      ]
    },
    {
      "cell_type": "code",
      "source": [
        "import os\n",
        "os.environ[\"JAVA_HOME\"] = \"/usr/lib/jvm/java-8-openjdk-amd64\"\n",
        "os.environ[\"SPARK_HOME\"] = \"/content/spark-3.1.1-bin-hadoop3.2\""
      ],
      "metadata": {
        "id": "k4z-7LuqkyyJ"
      },
      "execution_count": 2,
      "outputs": []
    },
    {
      "cell_type": "code",
      "source": [
        "import findspark\n",
        "findspark.init()\n",
        "from pyspark.sql import SparkSession\n",
        "spark = SparkSession.builder.master(\"local[*]\").getOrCreate()\n",
        "spark.conf.set(\"spark.sql.repl.eagerEval.enabled\", True) # Property used to format output tables better\n",
        "spark"
      ],
      "metadata": {
        "colab": {
          "base_uri": "https://localhost:8080/",
          "height": 219
        },
        "id": "5joVfphxky0n",
        "outputId": "3a62c3ea-8fb7-4507-bc18-edbdfe5cfbc3"
      },
      "execution_count": 3,
      "outputs": [
        {
          "output_type": "execute_result",
          "data": {
            "text/plain": [
              "<pyspark.sql.session.SparkSession at 0x7a53dbfb3880>"
            ],
            "text/html": [
              "\n",
              "            <div>\n",
              "                <p><b>SparkSession - in-memory</b></p>\n",
              "                \n",
              "        <div>\n",
              "            <p><b>SparkContext</b></p>\n",
              "\n",
              "            <p><a href=\"http://3f3e939de901:4040\">Spark UI</a></p>\n",
              "\n",
              "            <dl>\n",
              "              <dt>Version</dt>\n",
              "                <dd><code>v3.1.1</code></dd>\n",
              "              <dt>Master</dt>\n",
              "                <dd><code>local[*]</code></dd>\n",
              "              <dt>AppName</dt>\n",
              "                <dd><code>pyspark-shell</code></dd>\n",
              "            </dl>\n",
              "        </div>\n",
              "        \n",
              "            </div>\n",
              "        "
            ]
          },
          "metadata": {},
          "execution_count": 3
        }
      ]
    },
    {
      "cell_type": "code",
      "source": [
        "dataDF = [(('James','','Smith'),'1991-04-01','M',3000),\n",
        "  (('Michael','Rose',''),'2000-05-19','M',4000),\n",
        "  (('Robert','','Williams'),'1978-09-05','M',4000),\n",
        "  (('Maria','Anne','Jones'),'1967-12-01','F',4000),\n",
        "  (('Jen','Mary','Brown'),'1980-02-17','F',-1)\n",
        "]"
      ],
      "metadata": {
        "id": "P8Kyx_Xcky3F"
      },
      "execution_count": 4,
      "outputs": []
    },
    {
      "cell_type": "code",
      "source": [
        "from pyspark.sql.types import StringType,IntegerType,StructField,StructType\n",
        "from pyspark.sql.functions import col"
      ],
      "metadata": {
        "id": "FStA8fXXlMU0"
      },
      "execution_count": 19,
      "outputs": []
    },
    {
      "cell_type": "code",
      "source": [
        "schema = StructType([\n",
        "    StructField('name', StructType([\n",
        "        StructField('firstname', StringType(), True ),\n",
        "        StructField('middlename', StringType(), True ),\n",
        "        StructField('lastname', StringType(), True ),\n",
        "    ])),\n",
        "\n",
        "    StructField('dob', StringType(), True),\n",
        "    StructField('gender', StringType(), True),\n",
        "    StructField('salary', IntegerType(), True),\n",
        "])"
      ],
      "metadata": {
        "id": "UAtzw6O6lMXr"
      },
      "execution_count": 7,
      "outputs": []
    },
    {
      "cell_type": "code",
      "source": [
        "df = spark.createDataFrame( dataDF, schema=schema )"
      ],
      "metadata": {
        "id": "VQhYlQmolMaR"
      },
      "execution_count": 8,
      "outputs": []
    },
    {
      "cell_type": "code",
      "source": [
        "df.show()"
      ],
      "metadata": {
        "colab": {
          "base_uri": "https://localhost:8080/"
        },
        "id": "985uwFOYlMds",
        "outputId": "a2a3a59d-a2df-4f22-e2f7-25c2a29863be"
      },
      "execution_count": 9,
      "outputs": [
        {
          "output_type": "stream",
          "name": "stdout",
          "text": [
            "+--------------------+----------+------+------+\n",
            "|                name|       dob|gender|salary|\n",
            "+--------------------+----------+------+------+\n",
            "|    {James, , Smith}|1991-04-01|     M|  3000|\n",
            "|   {Michael, Rose, }|2000-05-19|     M|  4000|\n",
            "|{Robert, , Williams}|1978-09-05|     M|  4000|\n",
            "|{Maria, Anne, Jones}|1967-12-01|     F|  4000|\n",
            "|  {Jen, Mary, Brown}|1980-02-17|     F|    -1|\n",
            "+--------------------+----------+------+------+\n",
            "\n"
          ]
        }
      ]
    },
    {
      "cell_type": "code",
      "source": [
        "df.printSchema()"
      ],
      "metadata": {
        "colab": {
          "base_uri": "https://localhost:8080/"
        },
        "id": "lt4FzsTpky5t",
        "outputId": "7e55dc09-b888-4738-b728-1e65d5f2c872"
      },
      "execution_count": 10,
      "outputs": [
        {
          "output_type": "stream",
          "name": "stdout",
          "text": [
            "root\n",
            " |-- name: struct (nullable = true)\n",
            " |    |-- firstname: string (nullable = true)\n",
            " |    |-- middlename: string (nullable = true)\n",
            " |    |-- lastname: string (nullable = true)\n",
            " |-- dob: string (nullable = true)\n",
            " |-- gender: string (nullable = true)\n",
            " |-- salary: integer (nullable = true)\n",
            "\n"
          ]
        }
      ]
    },
    {
      "cell_type": "code",
      "source": [
        "## withColumnRenamed"
      ],
      "metadata": {
        "id": "V7qFEemjky9C"
      },
      "execution_count": 11,
      "outputs": []
    },
    {
      "cell_type": "code",
      "source": [
        "df = df.withColumnRenamed('dob','dateOfBirth')"
      ],
      "metadata": {
        "id": "G08LTG8Wnyg2"
      },
      "execution_count": 14,
      "outputs": []
    },
    {
      "cell_type": "code",
      "source": [
        "df.printSchema()"
      ],
      "metadata": {
        "colab": {
          "base_uri": "https://localhost:8080/"
        },
        "id": "OamB-gTwnyj9",
        "outputId": "a2f35142-593b-4a50-e4b1-9d01877d55ca"
      },
      "execution_count": 15,
      "outputs": [
        {
          "output_type": "stream",
          "name": "stdout",
          "text": [
            "root\n",
            " |-- name: struct (nullable = true)\n",
            " |    |-- firstname: string (nullable = true)\n",
            " |    |-- middlename: string (nullable = true)\n",
            " |    |-- lastname: string (nullable = true)\n",
            " |-- dateOfBirth: string (nullable = true)\n",
            " |-- gender: string (nullable = true)\n",
            " |-- salary: integer (nullable = true)\n",
            "\n"
          ]
        }
      ]
    },
    {
      "cell_type": "code",
      "source": [
        "df2 = df.withColumnRenamed('gender','Gender')\\\n",
        "        .withColumnRenamed('salary','Salary_Amt')"
      ],
      "metadata": {
        "id": "GuanK0fYnyna"
      },
      "execution_count": 16,
      "outputs": []
    },
    {
      "cell_type": "code",
      "source": [
        "df2.printSchema()"
      ],
      "metadata": {
        "colab": {
          "base_uri": "https://localhost:8080/"
        },
        "id": "1OqYd8MjoVq2",
        "outputId": "df86d6b9-b048-4ba2-dbd8-ff06d3e67bb4"
      },
      "execution_count": 17,
      "outputs": [
        {
          "output_type": "stream",
          "name": "stdout",
          "text": [
            "root\n",
            " |-- name: struct (nullable = true)\n",
            " |    |-- firstname: string (nullable = true)\n",
            " |    |-- middlename: string (nullable = true)\n",
            " |    |-- lastname: string (nullable = true)\n",
            " |-- dateOfBirth: string (nullable = true)\n",
            " |-- Gender: string (nullable = true)\n",
            " |-- Salary_Amt: integer (nullable = true)\n",
            "\n"
          ]
        }
      ]
    },
    {
      "cell_type": "code",
      "source": [
        "schema2 = StructType([\n",
        "    StructField(\"fname\", StringType(), True),\n",
        "    StructField(\"mname\", StringType(), True ),\n",
        "    StructField(\"lname\", StringType(), True )\n",
        "])"
      ],
      "metadata": {
        "id": "sbl3Zr59oVvR"
      },
      "execution_count": 18,
      "outputs": []
    },
    {
      "cell_type": "code",
      "source": [
        "df2.select(col(\"name\").cast(schema2),\n",
        "           col(\"dateOfBirth\"), col(\"Gender\"), col(\"Salary_Amt\")).printSchema()"
      ],
      "metadata": {
        "colab": {
          "base_uri": "https://localhost:8080/"
        },
        "id": "5Dp4MI-loVyx",
        "outputId": "4a6a951d-e64e-4494-ff2f-3b3a88f9eb85"
      },
      "execution_count": 22,
      "outputs": [
        {
          "output_type": "stream",
          "name": "stdout",
          "text": [
            "root\n",
            " |-- name: struct (nullable = true)\n",
            " |    |-- fname: string (nullable = true)\n",
            " |    |-- mname: string (nullable = true)\n",
            " |    |-- lname: string (nullable = true)\n",
            " |-- dateOfBirth: string (nullable = true)\n",
            " |-- Gender: string (nullable = true)\n",
            " |-- Salary_Amt: integer (nullable = true)\n",
            "\n"
          ]
        }
      ]
    },
    {
      "cell_type": "code",
      "source": [
        "df2.select(col(\"name\").cast(schema2),\n",
        "           col(\"dateOfBirth\"), col(\"Gender\"), col(\"Salary_Amt\")).show()"
      ],
      "metadata": {
        "colab": {
          "base_uri": "https://localhost:8080/"
        },
        "id": "rMPefYQKrCt1",
        "outputId": "285ab02c-e460-411c-bf20-1b5877ad34d3"
      },
      "execution_count": 23,
      "outputs": [
        {
          "output_type": "stream",
          "name": "stdout",
          "text": [
            "+--------------------+-----------+------+----------+\n",
            "|                name|dateOfBirth|Gender|Salary_Amt|\n",
            "+--------------------+-----------+------+----------+\n",
            "|    {James, , Smith}| 1991-04-01|     M|      3000|\n",
            "|   {Michael, Rose, }| 2000-05-19|     M|      4000|\n",
            "|{Robert, , Williams}| 1978-09-05|     M|      4000|\n",
            "|{Maria, Anne, Jones}| 1967-12-01|     F|      4000|\n",
            "|  {Jen, Mary, Brown}| 1980-02-17|     F|        -1|\n",
            "+--------------------+-----------+------+----------+\n",
            "\n"
          ]
        }
      ]
    },
    {
      "cell_type": "code",
      "source": [
        "df.printSchema()"
      ],
      "metadata": {
        "colab": {
          "base_uri": "https://localhost:8080/"
        },
        "id": "X4CoW0MZrCxD",
        "outputId": "8da78e82-c534-4c2b-ac61-7913db6c4200"
      },
      "execution_count": 24,
      "outputs": [
        {
          "output_type": "stream",
          "name": "stdout",
          "text": [
            "root\n",
            " |-- name: struct (nullable = true)\n",
            " |    |-- firstname: string (nullable = true)\n",
            " |    |-- middlename: string (nullable = true)\n",
            " |    |-- lastname: string (nullable = true)\n",
            " |-- dateOfBirth: string (nullable = true)\n",
            " |-- gender: string (nullable = true)\n",
            " |-- salary: integer (nullable = true)\n",
            "\n"
          ]
        }
      ]
    },
    {
      "cell_type": "code",
      "source": [
        "df3 = df"
      ],
      "metadata": {
        "id": "7oZ1wcawrC0K"
      },
      "execution_count": 25,
      "outputs": []
    },
    {
      "cell_type": "code",
      "source": [
        "df3 = df3.select(col(\"name.firstname\").alias('fname'),\\\n",
        "           col(\"name.middlename\").alias('mname'),\\\n",
        "           col(\"name.lastname\").alias('lname'),\\\n",
        "           col(\"dateOfBirth\"),col(\"gender\"),col(\"salary\"))"
      ],
      "metadata": {
        "id": "Lhy7loyZrmmg"
      },
      "execution_count": 40,
      "outputs": []
    },
    {
      "cell_type": "code",
      "source": [
        "df4 = df"
      ],
      "metadata": {
        "id": "y_17NdwiuHi3"
      },
      "execution_count": 43,
      "outputs": []
    },
    {
      "cell_type": "code",
      "source": [
        "df4 = df4.withColumn(\"fname\",col(\"name.firstname\"))\\\n",
        "    .withColumn(\"mname\",col(\"name.middlename\"))\\\n",
        "    .withColumn(\"lname\",col(\"name.lastname\"))\\\n",
        "    .drop(\"name\")"
      ],
      "metadata": {
        "id": "g3bwDcIKsN04"
      },
      "execution_count": 44,
      "outputs": []
    },
    {
      "cell_type": "code",
      "source": [
        "df4.show()"
      ],
      "metadata": {
        "colab": {
          "base_uri": "https://localhost:8080/"
        },
        "id": "9dt9D7ZEuLmw",
        "outputId": "f3ef3f14-4b4d-437a-ebde-fb658b4a1ea1"
      },
      "execution_count": 45,
      "outputs": [
        {
          "output_type": "stream",
          "name": "stdout",
          "text": [
            "+-----------+------+------+-------+-----+--------+\n",
            "|dateOfBirth|gender|salary|  fname|mname|   lname|\n",
            "+-----------+------+------+-------+-----+--------+\n",
            "| 1991-04-01|     M|  3000|  James|     |   Smith|\n",
            "| 2000-05-19|     M|  4000|Michael| Rose|        |\n",
            "| 1978-09-05|     M|  4000| Robert|     |Williams|\n",
            "| 1967-12-01|     F|  4000|  Maria| Anne|   Jones|\n",
            "| 1980-02-17|     F|    -1|    Jen| Mary|   Brown|\n",
            "+-----------+------+------+-------+-----+--------+\n",
            "\n"
          ]
        }
      ]
    },
    {
      "cell_type": "code",
      "source": [
        "df5 = df4"
      ],
      "metadata": {
        "id": "kKnJ3kd0tOnq"
      },
      "execution_count": 48,
      "outputs": []
    },
    {
      "cell_type": "code",
      "source": [
        "cols = [\"DOB\",\"Gender\",\"Salary\",\"Fname\",\"Mname\",\"Lname\"]"
      ],
      "metadata": {
        "id": "UK_sTHDktOrE"
      },
      "execution_count": 46,
      "outputs": []
    },
    {
      "cell_type": "code",
      "source": [
        "df5.toDF(*cols).show()"
      ],
      "metadata": {
        "colab": {
          "base_uri": "https://localhost:8080/"
        },
        "id": "s1VcvaUCtccH",
        "outputId": "5ceee66a-5838-4bb3-bec5-88d28a609bf4"
      },
      "execution_count": 49,
      "outputs": [
        {
          "output_type": "stream",
          "name": "stdout",
          "text": [
            "+----------+------+------+-------+-----+--------+\n",
            "|       DOB|Gender|Salary|  Fname|Mname|   Lname|\n",
            "+----------+------+------+-------+-----+--------+\n",
            "|1991-04-01|     M|  3000|  James|     |   Smith|\n",
            "|2000-05-19|     M|  4000|Michael| Rose|        |\n",
            "|1978-09-05|     M|  4000| Robert|     |Williams|\n",
            "|1967-12-01|     F|  4000|  Maria| Anne|   Jones|\n",
            "|1980-02-17|     F|    -1|    Jen| Mary|   Brown|\n",
            "+----------+------+------+-------+-----+--------+\n",
            "\n"
          ]
        }
      ]
    },
    {
      "cell_type": "code",
      "source": [],
      "metadata": {
        "id": "yfLpyZcKtcfg"
      },
      "execution_count": null,
      "outputs": []
    }
  ]
}