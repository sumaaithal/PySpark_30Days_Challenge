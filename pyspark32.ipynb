{
  "nbformat": 4,
  "nbformat_minor": 0,
  "metadata": {
    "colab": {
      "provenance": [],
      "authorship_tag": "ABX9TyNbsxQkrIAxTFclOwUjV0G2",
      "include_colab_link": true
    },
    "kernelspec": {
      "name": "python3",
      "display_name": "Python 3"
    },
    "language_info": {
      "name": "python"
    }
  },
  "cells": [
    {
      "cell_type": "markdown",
      "metadata": {
        "id": "view-in-github",
        "colab_type": "text"
      },
      "source": [
        "<a href=\"https://colab.research.google.com/github/sumaaithal/PySpark_30Days_Challenge/blob/main/pyspark32.ipynb\" target=\"_parent\"><img src=\"https://colab.research.google.com/assets/colab-badge.svg\" alt=\"Open In Colab\"/></a>"
      ]
    },
    {
      "cell_type": "code",
      "execution_count": 1,
      "metadata": {
        "colab": {
          "base_uri": "https://localhost:8080/"
        },
        "id": "yhilMY0OFO6S",
        "outputId": "c08417fc-6ecb-4974-ace6-dc3ef92d98ff"
      },
      "outputs": [
        {
          "output_type": "stream",
          "name": "stdout",
          "text": [
            "Get:1 https://developer.download.nvidia.com/compute/cuda/repos/ubuntu2204/x86_64  InRelease [1,581 B]\n",
            "Get:2 https://developer.download.nvidia.com/compute/cuda/repos/ubuntu2204/x86_64  Packages [662 kB]\n",
            "Get:3 http://security.ubuntu.com/ubuntu jammy-security InRelease [110 kB]\n",
            "Hit:4 http://archive.ubuntu.com/ubuntu jammy InRelease\n",
            "Get:5 https://cloud.r-project.org/bin/linux/ubuntu jammy-cran40/ InRelease [3,626 B]\n",
            "Get:6 http://archive.ubuntu.com/ubuntu jammy-updates InRelease [119 kB]\n",
            "Hit:7 https://ppa.launchpadcontent.net/c2d4u.team/c2d4u4.0+/ubuntu jammy InRelease\n",
            "Hit:8 https://ppa.launchpadcontent.net/deadsnakes/ppa/ubuntu jammy InRelease\n",
            "Hit:9 https://ppa.launchpadcontent.net/graphics-drivers/ppa/ubuntu jammy InRelease\n",
            "Hit:10 https://ppa.launchpadcontent.net/ubuntugis/ppa/ubuntu jammy InRelease\n",
            "Get:11 http://archive.ubuntu.com/ubuntu jammy-backports InRelease [109 kB]\n",
            "Get:12 http://security.ubuntu.com/ubuntu jammy-security/universe amd64 Packages [1,056 kB]\n",
            "Get:13 http://archive.ubuntu.com/ubuntu jammy-updates/universe amd64 Packages [1,320 kB]\n",
            "Get:14 http://archive.ubuntu.com/ubuntu jammy-updates/main amd64 Packages [1,623 kB]\n",
            "Get:15 http://archive.ubuntu.com/ubuntu jammy-backports/universe amd64 Packages [28.1 kB]\n",
            "Get:16 http://archive.ubuntu.com/ubuntu jammy-backports/main amd64 Packages [50.4 kB]\n",
            "Fetched 5,083 kB in 4s (1,425 kB/s)\n",
            "Reading package lists... Done\n",
            "Building dependency tree... Done\n",
            "Reading state information... Done\n",
            "32 packages can be upgraded. Run 'apt list --upgradable' to see them.\n"
          ]
        }
      ],
      "source": [
        "!sudo apt update\n",
        "!apt-get install openjdk-8-jdk-headless -qq > /dev/null\n",
        "!wget -q http://archive.apache.org/dist/spark/spark-3.5.0/spark-3.5.0-bin-hadoop3.tgz\n",
        "!tar xf spark-3.5.0-bin-hadoop3.tgz\n",
        "!pip install -q findspark"
      ]
    },
    {
      "cell_type": "code",
      "source": [
        "import os\n",
        "os.environ[\"JAVA_HOME\"] = \"/usr/lib/jvm/java-8-openjdk-amd64\"\n",
        "os.environ[\"SPARK_HOME\"] = \"/content/spark-3.5.0-bin-hadoop3\""
      ],
      "metadata": {
        "id": "-qk0cdhbFTqB"
      },
      "execution_count": 2,
      "outputs": []
    },
    {
      "cell_type": "code",
      "source": [
        "import findspark\n",
        "findspark.init()\n",
        "from pyspark.sql import SparkSession\n",
        "spark = SparkSession.builder.master(\"local[*]\").getOrCreate()\n",
        "spark.conf.set(\"spark.sql.repl.eagerEval.enabled\", True) # Property used to format output tables better\n",
        "spark"
      ],
      "metadata": {
        "colab": {
          "base_uri": "https://localhost:8080/",
          "height": 219
        },
        "id": "paR1Ka8mFTsy",
        "outputId": "71e21a11-fd1d-4e12-e2ab-f7157219ead6"
      },
      "execution_count": 3,
      "outputs": [
        {
          "output_type": "execute_result",
          "data": {
            "text/plain": [
              "<pyspark.sql.session.SparkSession at 0x7bcae825a830>"
            ],
            "text/html": [
              "\n",
              "            <div>\n",
              "                <p><b>SparkSession - in-memory</b></p>\n",
              "                \n",
              "        <div>\n",
              "            <p><b>SparkContext</b></p>\n",
              "\n",
              "            <p><a href=\"http://f20ab5e2a9bd:4040\">Spark UI</a></p>\n",
              "\n",
              "            <dl>\n",
              "              <dt>Version</dt>\n",
              "                <dd><code>v3.5.0</code></dd>\n",
              "              <dt>Master</dt>\n",
              "                <dd><code>local[*]</code></dd>\n",
              "              <dt>AppName</dt>\n",
              "                <dd><code>pyspark-shell</code></dd>\n",
              "            </dl>\n",
              "        </div>\n",
              "        \n",
              "            </div>\n",
              "        "
            ]
          },
          "metadata": {},
          "execution_count": 3
        }
      ]
    },
    {
      "cell_type": "code",
      "source": [
        "from pyspark.sql.functions import regexp_replace, when, translate, expr, overlay"
      ],
      "metadata": {
        "id": "U4KvMk9SGYkK"
      },
      "execution_count": 25,
      "outputs": []
    },
    {
      "cell_type": "code",
      "source": [
        "address = [(1,\"14851 Jeffrey Rd\",\"DE\"),\n",
        "    (2,\"43421 Margarita St\",\"NY\"),\n",
        "    (3,\"13111 Siemon Ave\",\"CA\")]"
      ],
      "metadata": {
        "id": "OStnKJ6TFTwM"
      },
      "execution_count": 4,
      "outputs": []
    },
    {
      "cell_type": "code",
      "source": [
        "df = spark.createDataFrame(data=address,schema=[\"id\",\"address\",\"state\"])"
      ],
      "metadata": {
        "id": "GAdHGib1F3eb"
      },
      "execution_count": 5,
      "outputs": []
    },
    {
      "cell_type": "code",
      "source": [
        "df.show()"
      ],
      "metadata": {
        "colab": {
          "base_uri": "https://localhost:8080/"
        },
        "id": "KnGP0_FEF3go",
        "outputId": "96119d67-4f6d-44a5-ad2e-d9541a0445f0"
      },
      "execution_count": 6,
      "outputs": [
        {
          "output_type": "stream",
          "name": "stdout",
          "text": [
            "+---+------------------+-----+\n",
            "| id|           address|state|\n",
            "+---+------------------+-----+\n",
            "|  1|  14851 Jeffrey Rd|   DE|\n",
            "|  2|43421 Margarita St|   NY|\n",
            "|  3|  13111 Siemon Ave|   CA|\n",
            "+---+------------------+-----+\n",
            "\n"
          ]
        }
      ]
    },
    {
      "cell_type": "code",
      "source": [
        "df.withColumn('address',\n",
        "              regexp_replace(\"address\",'Rd','Road')).show()"
      ],
      "metadata": {
        "colab": {
          "base_uri": "https://localhost:8080/"
        },
        "id": "p1D-EMigF3kI",
        "outputId": "0d251755-1cc7-49ad-a599-275c2053a014"
      },
      "execution_count": 8,
      "outputs": [
        {
          "output_type": "stream",
          "name": "stdout",
          "text": [
            "+---+------------------+-----+\n",
            "| id|           address|state|\n",
            "+---+------------------+-----+\n",
            "|  1|14851 Jeffrey Road|   DE|\n",
            "|  2|43421 Margarita St|   NY|\n",
            "|  3|  13111 Siemon Ave|   CA|\n",
            "+---+------------------+-----+\n",
            "\n"
          ]
        }
      ]
    },
    {
      "cell_type": "code",
      "source": [
        "df.withColumn(\"address\",\n",
        "              when(df.address.endswith(\"Rd\"), regexp_replace(\"address\",\"Rd\",\"Road\"))\\\n",
        "              .when(df.address.endswith(\"St\"), regexp_replace(\"address\",\"St\",\"Street\"))\\\n",
        "              .when(df.address.endswith(\"Ave\"), regexp_replace(\"address\",\"Ave\",\"Avenue\"))\n",
        "              .otherwise(df.address)\n",
        "              ).show()"
      ],
      "metadata": {
        "colab": {
          "base_uri": "https://localhost:8080/"
        },
        "id": "bXiL_hH-GhN3",
        "outputId": "dcac0de7-a786-4e57-cb90-1a68e4762119"
      },
      "execution_count": 12,
      "outputs": [
        {
          "output_type": "stream",
          "name": "stdout",
          "text": [
            "+---+--------------------+-----+\n",
            "| id|             address|state|\n",
            "+---+--------------------+-----+\n",
            "|  1|  14851 Jeffrey Road|   DE|\n",
            "|  2|43421 Margarita S...|   NY|\n",
            "|  3| 13111 Siemon Avenue|   CA|\n",
            "+---+--------------------+-----+\n",
            "\n"
          ]
        }
      ]
    },
    {
      "cell_type": "code",
      "source": [
        "stateDic = {'CA':'California','NY':'New York','DE':'Delaware'}"
      ],
      "metadata": {
        "id": "x_3G9LRNGhQL"
      },
      "execution_count": 14,
      "outputs": []
    },
    {
      "cell_type": "code",
      "source": [
        "df2 = df.rdd.map(lambda x:(x.id, x.address, stateDic[x.state])).toDF([\"id\",\"addres\",\"state\"])"
      ],
      "metadata": {
        "id": "c7YwQ8nCJLl6"
      },
      "execution_count": 18,
      "outputs": []
    },
    {
      "cell_type": "code",
      "source": [
        "df2.show()"
      ],
      "metadata": {
        "colab": {
          "base_uri": "https://localhost:8080/"
        },
        "id": "Y8gybR4mJLoO",
        "outputId": "53736983-40fe-4e49-daf7-e36bf07e679d"
      },
      "execution_count": 19,
      "outputs": [
        {
          "output_type": "stream",
          "name": "stdout",
          "text": [
            "+---+------------------+----------+\n",
            "| id|            addres|     state|\n",
            "+---+------------------+----------+\n",
            "|  1|  14851 Jeffrey Rd|  Delaware|\n",
            "|  2|43421 Margarita St|  New York|\n",
            "|  3|  13111 Siemon Ave|California|\n",
            "+---+------------------+----------+\n",
            "\n"
          ]
        }
      ]
    },
    {
      "cell_type": "code",
      "source": [
        "df.withColumn(\"address\",\n",
        "              translate(\"address\",\"123\",\"ABC\")).show()"
      ],
      "metadata": {
        "colab": {
          "base_uri": "https://localhost:8080/"
        },
        "id": "qv7gm0lSJLqy",
        "outputId": "7a337b83-7ba5-43d7-f116-80f8b809a4d6"
      },
      "execution_count": 21,
      "outputs": [
        {
          "output_type": "stream",
          "name": "stdout",
          "text": [
            "+---+------------------+-----+\n",
            "| id|           address|state|\n",
            "+---+------------------+-----+\n",
            "|  1|  A485A Jeffrey Rd|   DE|\n",
            "|  2|4C4BA Margarita St|   NY|\n",
            "|  3|  ACAAA Siemon Ave|   CA|\n",
            "+---+------------------+-----+\n",
            "\n"
          ]
        }
      ]
    },
    {
      "cell_type": "code",
      "source": [
        "df = spark.createDataFrame(\n",
        "   [(\"ABCDE_XYZ\", \"XYZ\",\"FGH\")],\n",
        "    (\"col1\", \"col2\",\"col3\")\n",
        "  )"
      ],
      "metadata": {
        "id": "--RlDloXJLuX"
      },
      "execution_count": 23,
      "outputs": []
    },
    {
      "cell_type": "code",
      "source": [
        "df.withColumn(\"new_column\",\n",
        "              expr(\"regexp_replace(col1,col2,col3)\").alias(\"replaced_value\")).show()"
      ],
      "metadata": {
        "colab": {
          "base_uri": "https://localhost:8080/"
        },
        "id": "V9snEHqLGhTL",
        "outputId": "5cf00f7e-44b2-4e4a-8565-03d3eb8acc31"
      },
      "execution_count": 24,
      "outputs": [
        {
          "output_type": "stream",
          "name": "stdout",
          "text": [
            "+---------+----+----+----------+\n",
            "|     col1|col2|col3|new_column|\n",
            "+---------+----+----+----------+\n",
            "|ABCDE_XYZ| XYZ| FGH| ABCDE_FGH|\n",
            "+---------+----+----+----------+\n",
            "\n"
          ]
        }
      ]
    },
    {
      "cell_type": "code",
      "source": [
        "df = spark.createDataFrame([(\"ABCDE_XYZ\", \"FGH\")], (\"col1\", \"col2\"))"
      ],
      "metadata": {
        "id": "vtv4Ccg-GhWo"
      },
      "execution_count": 26,
      "outputs": []
    },
    {
      "cell_type": "code",
      "source": [
        "df.select(overlay(\"col1\",\"col2\",7).alias(\"overlayed\")).show()"
      ],
      "metadata": {
        "colab": {
          "base_uri": "https://localhost:8080/"
        },
        "id": "DcmXMZesNwGY",
        "outputId": "eb5831e3-5a98-49d8-8dd8-b6a3481769eb"
      },
      "execution_count": 27,
      "outputs": [
        {
          "output_type": "stream",
          "name": "stdout",
          "text": [
            "+---------+\n",
            "|overlayed|\n",
            "+---------+\n",
            "|ABCDE_FGH|\n",
            "+---------+\n",
            "\n"
          ]
        }
      ]
    },
    {
      "cell_type": "code",
      "source": [],
      "metadata": {
        "id": "y8eVxGWQNwJ8"
      },
      "execution_count": null,
      "outputs": []
    }
  ]
}